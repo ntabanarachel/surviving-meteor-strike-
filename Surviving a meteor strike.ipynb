{
 "cells": [
  {
   "cell_type": "markdown",
   "id": "08eaa168",
   "metadata": {},
   "source": [
    "# Surviving a meteor strike"
   ]
  },
  {
   "cell_type": "markdown",
   "id": "e9527ecf",
   "metadata": {},
   "source": [
    "A meteor is approaching the earth and we want to make sure it won't take us to extinction. \n",
    "A group of scientists is trying to estimate the orbit by using historical data gathered about previous orbits of similar meteors.\n"
   ]
  },
  {
   "cell_type": "markdown",
   "id": "824e359d",
   "metadata": {},
   "source": [
    "<img src=\"images/problem.png\" width=\"500\">"
   ]
  },
  {
   "cell_type": "markdown",
   "id": "9b2a25bc",
   "metadata": {
    "ExecuteTime": {
     "end_time": "2021-06-23T21:05:03.232676Z",
     "start_time": "2021-06-23T21:05:03.103645Z"
    }
   },
   "source": [
    "## Scientific prediction\n",
    "Scientist have used this data alongside their knowledge to estimate an 80-minute orbit, that is, an orbit from -40 minutes to +40 minutes. \n",
    "\n",
    "t=0 corresponds to the time of crossing the impact region. It looks like the meteor will be close! Perhaps it won't hit us, but we must make sure we are right!\n",
    "\n",
    "<img src=\"images/Scientific_prediction.png\" width=\"500\">"
   ]
  },
  {
   "cell_type": "markdown",
   "id": "1f5ac91d",
   "metadata": {},
   "source": [
    "## Our Task\n",
    "You have data for the path a previous meteor took during a period of 20 minutes, 10 minutes before and 10 minutes after crossing the impact region. You will train a model on this data and extrapolate your predictions to an 80-minute orbit to see how it compares to the scientists prediction. Will your orbit be similar to that of the scientists, where we don't die just by a small bit?\n",
    "\n",
    "<img src=\"images/meteor_orbit_data.jpg\" width=\"500\">"
   ]
  },
  {
   "cell_type": "markdown",
   "id": "9f03630b",
   "metadata": {},
   "source": [
    "### 1- Laod Data\n",
    "\n",
    "Your training data consist of measurements taken at time steps from -10 minutes before the impact region to +10 minutes after. Each time step can be viewed as an X coordinate in our graph, which has an associated position Y for the meteor at that time step.\n",
    "\n",
    "This data is stored in two numpy arrays: \n",
    "- one called `time_steps`  , containing the features, \n",
    "- and another called `y_positions`, with the labels.\n",
    "\n",
    "We will build a simple regression model to forecast the orbit of the meteor!\n",
    "-  It should be able to predict the y positions for the meteor orbit at future time steps.\n",
    "\n",
    "\n",
    "\n"
   ]
  },
  {
   "cell_type": "code",
   "execution_count": 1,
   "id": "ed3bc9ec",
   "metadata": {
    "ExecuteTime": {
     "end_time": "2021-06-24T10:12:04.543133Z",
     "start_time": "2021-06-24T10:12:04.540086Z"
    }
   },
   "outputs": [],
   "source": [
    "# import libraries\n",
    "import numpy as np\n",
    "import pandas as pd\n",
    "import tensorflow as tf\n",
    "import matplotlib.pyplot as plt\n",
    "from tensorflow.keras import Sequential\n",
    "from tensorflow.keras.layers import Dense"
   ]
  },
  {
   "cell_type": "code",
   "execution_count": 6,
   "id": "8fff6ce1",
   "metadata": {
    "ExecuteTime": {
     "end_time": "2021-06-24T10:12:04.914864Z",
     "start_time": "2021-06-24T10:12:04.907422Z"
    }
   },
   "outputs": [
    {
     "name": "stdout",
     "output_type": "stream",
     "text": [
      "(2000, 2)\n"
     ]
    },
    {
     "data": {
      "text/html": [
       "<div>\n",
       "<style scoped>\n",
       "    .dataframe tbody tr th:only-of-type {\n",
       "        vertical-align: middle;\n",
       "    }\n",
       "\n",
       "    .dataframe tbody tr th {\n",
       "        vertical-align: top;\n",
       "    }\n",
       "\n",
       "    .dataframe thead th {\n",
       "        text-align: right;\n",
       "    }\n",
       "</style>\n",
       "<table border=\"1\" class=\"dataframe\">\n",
       "  <thead>\n",
       "    <tr style=\"text-align: right;\">\n",
       "      <th></th>\n",
       "      <th>time_steps</th>\n",
       "      <th>y</th>\n",
       "    </tr>\n",
       "  </thead>\n",
       "  <tbody>\n",
       "    <tr>\n",
       "      <th>0</th>\n",
       "      <td>-10.000000</td>\n",
       "      <td>100.000000</td>\n",
       "    </tr>\n",
       "    <tr>\n",
       "      <th>1</th>\n",
       "      <td>-9.989995</td>\n",
       "      <td>99.800000</td>\n",
       "    </tr>\n",
       "    <tr>\n",
       "      <th>2</th>\n",
       "      <td>-9.979990</td>\n",
       "      <td>99.600200</td>\n",
       "    </tr>\n",
       "    <tr>\n",
       "      <th>3</th>\n",
       "      <td>-9.969985</td>\n",
       "      <td>99.400601</td>\n",
       "    </tr>\n",
       "    <tr>\n",
       "      <th>4</th>\n",
       "      <td>-9.959980</td>\n",
       "      <td>99.201201</td>\n",
       "    </tr>\n",
       "  </tbody>\n",
       "</table>\n",
       "</div>"
      ],
      "text/plain": [
       "   time_steps           y\n",
       "0  -10.000000  100.000000\n",
       "1   -9.989995   99.800000\n",
       "2   -9.979990   99.600200\n",
       "3   -9.969985   99.400601\n",
       "4   -9.959980   99.201201"
      ]
     },
     "execution_count": 6,
     "metadata": {},
     "output_type": "execute_result"
    }
   ],
   "source": [
    "##loading dataset \n",
    "data= './dataset/orbit.csv'\n",
    "orbit = pd.read_csv(data)\n",
    "\n",
    "\n",
    "#totalInstances=len(orbit)\n",
    "#print(totalInstances)\n",
    "print(orbit.shape)\n",
    "\n",
    "orbit.head()"
   ]
  },
  {
   "cell_type": "code",
   "execution_count": 7,
   "id": "0449e1df",
   "metadata": {
    "ExecuteTime": {
     "end_time": "2021-06-24T10:12:05.245220Z",
     "start_time": "2021-06-24T10:12:05.238386Z"
    }
   },
   "outputs": [],
   "source": [
    "time_steps = orbit['time_steps'].to_numpy()\n",
    "y_positions = orbit['y'].to_numpy()"
   ]
  },
  {
   "cell_type": "markdown",
   "id": "4bce81c9",
   "metadata": {
    "ExecuteTime": {
     "end_time": "2021-06-23T21:36:16.426333Z",
     "start_time": "2021-06-23T21:36:16.423560Z"
    }
   },
   "source": [
    "### 2- Define a model\n",
    "You are closer to forecasting the meteor orbit! It’s important to note we aren’t using an activation function in our output layer since y_positions aren’t bounded and they can take any value. Your model is performing regression.\n",
    "\n"
   ]
  },
  {
   "cell_type": "code",
   "execution_count": 8,
   "id": "562f5f4b",
   "metadata": {
    "ExecuteTime": {
     "end_time": "2021-06-24T10:12:05.776247Z",
     "start_time": "2021-06-24T10:12:05.676278Z"
    }
   },
   "outputs": [
    {
     "name": "stdout",
     "output_type": "stream",
     "text": [
      "Model: \"sequential\"\n",
      "_________________________________________________________________\n",
      " Layer (type)                Output Shape              Param #   \n",
      "=================================================================\n",
      " dense (Dense)               (None, 50)                100       \n",
      "                                                                 \n",
      " dense_1 (Dense)             (None, 50)                2550      \n",
      "                                                                 \n",
      " dense_2 (Dense)             (None, 50)                2550      \n",
      "                                                                 \n",
      " dense_3 (Dense)             (None, 1)                 51        \n",
      "                                                                 \n",
      "=================================================================\n",
      "Total params: 5,251\n",
      "Trainable params: 5,251\n",
      "Non-trainable params: 0\n",
      "_________________________________________________________________\n"
     ]
    }
   ],
   "source": [
    "# Instantiate a Sequential model\n",
    "model = Sequential()\n",
    "\n",
    "# Add a Dense layer with 50 neurons and an input of 1 neuron\n",
    "model.add(Dense(50, input_shape=(1, ), activation='relu'))\n",
    "\n",
    "# Add two Dense layers with 50 neurons and relu activation\n",
    "model.add(Dense(50, activation='relu'))\n",
    "model.add(Dense(50, activation='relu'))\n",
    "\n",
    "# End your model with a Dense layer and no activation\n",
    "model.add(Dense(1))\n",
    "\n",
    "# Summarize your model\n",
    "model.summary()"
   ]
  },
  {
   "cell_type": "markdown",
   "id": "d9793c0d",
   "metadata": {},
   "source": [
    "### 3- Compile Keras Model.\n",
    "training your Keras models you need to compile them. This can be done with the `.compile()` method. The `.compile()` method takes arguments such as the `optimizer`, used for weight updating, and the `loss` function, which is what we want to minimize."
   ]
  },
  {
   "cell_type": "code",
   "execution_count": 9,
   "id": "de16a292",
   "metadata": {
    "ExecuteTime": {
     "end_time": "2021-06-24T10:12:06.159172Z",
     "start_time": "2021-06-24T10:12:06.108684Z"
    }
   },
   "outputs": [],
   "source": [
    "# Compile your model\n",
    "model.compile(optimizer='adam', loss='mse')"
   ]
  },
  {
   "cell_type": "markdown",
   "id": "06a37bf9",
   "metadata": {},
   "source": [
    "### 4- Training\n",
    "Training your model is as easy as calling the `.fit()` method, passing on the features, labels and a number of epochs to train for.\n"
   ]
  },
  {
   "cell_type": "code",
   "execution_count": 10,
   "id": "574004d2",
   "metadata": {
    "ExecuteTime": {
     "end_time": "2021-06-24T10:12:09.753025Z",
     "start_time": "2021-06-24T10:12:06.542212Z"
    }
   },
   "outputs": [
    {
     "name": "stdout",
     "output_type": "stream",
     "text": [
      "Training started..., this can take a while:\n",
      "Epoch 1/30\n",
      "63/63 [==============================] - 4s 692us/step - loss: 1528.7141\n",
      "Epoch 2/30\n",
      "63/63 [==============================] - 0s 660us/step - loss: 263.2816\n",
      "Epoch 3/30\n",
      "63/63 [==============================] - 0s 627us/step - loss: 138.7433\n",
      "Epoch 4/30\n",
      "63/63 [==============================] - 0s 740us/step - loss: 118.2852\n",
      "Epoch 5/30\n",
      "63/63 [==============================] - 0s 692us/step - loss: 93.2383\n",
      "Epoch 6/30\n",
      "63/63 [==============================] - 0s 660us/step - loss: 62.7979\n",
      "Epoch 7/30\n",
      "63/63 [==============================] - 0s 660us/step - loss: 36.2383\n",
      "Epoch 8/30\n",
      "63/63 [==============================] - 0s 676us/step - loss: 25.1934\n",
      "Epoch 9/30\n",
      "63/63 [==============================] - 0s 660us/step - loss: 17.0735\n",
      "Epoch 10/30\n",
      "63/63 [==============================] - 0s 692us/step - loss: 11.1531\n",
      "Epoch 11/30\n",
      "63/63 [==============================] - 0s 660us/step - loss: 6.6408\n",
      "Epoch 12/30\n",
      "63/63 [==============================] - 0s 676us/step - loss: 4.1454\n",
      "Epoch 13/30\n",
      "63/63 [==============================] - 0s 676us/step - loss: 2.7310\n",
      "Epoch 14/30\n",
      "63/63 [==============================] - 0s 708us/step - loss: 1.7788\n",
      "Epoch 15/30\n",
      "63/63 [==============================] - 0s 643us/step - loss: 1.6373\n",
      "Epoch 16/30\n",
      "63/63 [==============================] - 0s 724us/step - loss: 1.0576\n",
      "Epoch 17/30\n",
      "63/63 [==============================] - 0s 643us/step - loss: 0.8284\n",
      "Epoch 18/30\n",
      "63/63 [==============================] - 0s 676us/step - loss: 0.6203\n",
      "Epoch 19/30\n",
      "63/63 [==============================] - 0s 676us/step - loss: 0.4445\n",
      "Epoch 20/30\n",
      "63/63 [==============================] - 0s 660us/step - loss: 0.4318\n",
      "Epoch 21/30\n",
      "63/63 [==============================] - 0s 643us/step - loss: 0.3154\n",
      "Epoch 22/30\n",
      "63/63 [==============================] - 0s 643us/step - loss: 0.2635\n",
      "Epoch 23/30\n",
      "63/63 [==============================] - 0s 660us/step - loss: 0.2559\n",
      "Epoch 24/30\n",
      "63/63 [==============================] - 0s 692us/step - loss: 0.2243\n",
      "Epoch 25/30\n",
      "63/63 [==============================] - 0s 643us/step - loss: 0.1720\n",
      "Epoch 26/30\n",
      "63/63 [==============================] - 0s 660us/step - loss: 0.1419\n",
      "Epoch 27/30\n",
      "63/63 [==============================] - 0s 643us/step - loss: 0.1197\n",
      "Epoch 28/30\n",
      "63/63 [==============================] - 0s 676us/step - loss: 0.1055\n",
      "Epoch 29/30\n",
      "63/63 [==============================] - 0s 692us/step - loss: 0.1028\n",
      "Epoch 30/30\n",
      "63/63 [==============================] - 0s 643us/step - loss: 0.1172\n"
     ]
    },
    {
     "data": {
      "text/plain": [
       "<keras.callbacks.History at 0x231e02e2a48>"
      ]
     },
     "execution_count": 10,
     "metadata": {},
     "output_type": "execute_result"
    }
   ],
   "source": [
    "print('Training started..., this can take a while:')\n",
    "\n",
    "# Fit your model on your data for 30 epochs\n",
    "model.fit(time_steps, y_positions, epochs=30)"
   ]
  },
  {
   "cell_type": "markdown",
   "id": "447f570f",
   "metadata": {
    "ExecuteTime": {
     "end_time": "2021-06-23T21:45:18.139222Z",
     "start_time": "2021-06-23T21:45:18.135663Z"
    }
   },
   "source": [
    "### 5- Evaluating\n",
    "evaluate our model on this very same data, let's see if your model can learn the meteor's trajectory.\n"
   ]
  },
  {
   "cell_type": "code",
   "execution_count": 11,
   "id": "ba94761d",
   "metadata": {
    "ExecuteTime": {
     "end_time": "2021-06-24T10:12:09.864614Z",
     "start_time": "2021-06-24T10:12:09.756175Z"
    }
   },
   "outputs": [
    {
     "name": "stdout",
     "output_type": "stream",
     "text": [
      "63/63 [==============================] - 0s 563us/step - loss: 0.1101\n",
      "Final loss value: 0.11008082330226898\n"
     ]
    }
   ],
   "source": [
    "# Evaluate your model\n",
    "print(\"Final loss value:\", model.evaluate(time_steps, y_positions))"
   ]
  },
  {
   "cell_type": "markdown",
   "id": "36da373f",
   "metadata": {},
   "source": [
    "### 6-Predicting the orbit!\n",
    "\n",
    "You've already trained a `model` that approximates the orbit of the meteor approaching Earth and it's loaded for you to use.\n",
    "\n",
    "Since you trained your model for values between -10 and 10 minutes, your model hasn't yet seen any other values for different time steps. You will now visualize how your model behaves on unseen data.\n",
    "\n",
    "Remember `np.arange(x,y)` produces a range of values from `x` to `y-1`. That is the `[x, y)` interval."
   ]
  },
  {
   "cell_type": "code",
   "execution_count": 20,
   "id": "b3f733a1",
   "metadata": {
    "ExecuteTime": {
     "end_time": "2021-06-24T10:12:09.876798Z",
     "start_time": "2021-06-24T10:12:09.870067Z"
    }
   },
   "outputs": [],
   "source": [
    "def plot_orbit(model_preds):\n",
    "    axeslim = int(len(model_preds) / 2)\n",
    "    plt.plot(np.arange(-axeslim, axeslim + 1),np.arange(-axeslim, axeslim + 1) ** 2,\n",
    "             color=\"mediumslateblue\")\n",
    "    plt.plot(np.arange(-axeslim, axeslim + 1),model_preds,color=\"orange\")\n",
    "    plt.axis([-40, 41, -5, 550])\n",
    "    plt.legend([\"Scientist's Orbit\", 'Your orbit'],loc=\"lower left\")\n",
    "    plt.title(\"Predicted orbit vs Scientist's Orbit\")"
   ]
  },
  {
   "cell_type": "code",
   "execution_count": 23,
   "id": "fd3607cf",
   "metadata": {
    "ExecuteTime": {
     "end_time": "2021-06-24T10:12:24.805318Z",
     "start_time": "2021-06-24T10:12:24.634104Z"
    }
   },
   "outputs": [
    {
     "data": {
      "image/png": "[encoded data removed]",
      "text/plain": [
       "<Figure size 432x288 with 1 Axes>"
      ]
     },
     "metadata": {
      "needs_background": "light"
     },
     "output_type": "display_data"
    }
   ],
   "source": [
    "# Predict the twenty minutes orbit\n",
    "twenty_min_orbit = model.predict(np.arange(-10, 11))\n",
    "\n",
    "# Plot the twenty minute orbit\n",
    "plot_orbit(twenty_min_orbit)"
   ]
  },
  {
   "cell_type": "code",
   "execution_count": 24,
   "id": "a9a3e69c",
   "metadata": {
    "ExecuteTime": {
     "end_time": "2021-06-24T10:12:25.753794Z",
     "start_time": "2021-06-24T10:12:25.571970Z"
    }
   },
   "outputs": [
    {
     "data": {
      "image/png": "[encoded data removed]",
      "text/plain": [
       "<Figure size 432x288 with 1 Axes>"
      ]
     },
     "metadata": {
      "needs_background": "light"
     },
     "output_type": "display_data"
    }
   ],
   "source": [
    "# Predict the eighty minute orbit\n",
    "eighty_min_orbit = model.predict(np.arange(-40, 41))\n",
    "\n",
    "# Plot the eighty minute orbit\n",
    "plot_orbit(eighty_min_orbit)"
   ]
  },
  {
   "cell_type": "markdown",
   "id": "f0df33c5",
   "metadata": {},
   "source": [
    "Your model fits perfectly to the scientists trajectory for time values between -10 to +10, the region where the meteor crosses the impact region, so we won't be hit! However, it starts to diverge when predicting for new values we haven't trained for. This shows neural networks learn according to the data they are fed with. Data quality and diversity are very important."
   ]
  },
  {
   "cell_type": "code",
   "execution_count": null,
   "id": "01a14f42",
   "metadata": {},
   "outputs": [],
   "source": []
  },
  {
   "cell_type": "code",
   "execution_count": null,
   "id": "37175d9a",
   "metadata": {},
   "outputs": [],
   "source": []
  },
  {
   "cell_type": "code",
   "execution_count": null,
   "id": "44b1998a",
   "metadata": {},
   "outputs": [],
   "source": []
  },
  {
   "cell_type": "code",
   "execution_count": null,
   "id": "f69b8a01",
   "metadata": {},
   "outputs": [],
   "source": []
  }
 ],
 "metadata": {
  "kernelspec": {
   "display_name": "Python 3 (ipykernel)",
   "language": "python",
   "name": "python3"
  },
  "language_info": {
   "codemirror_mode": {
    "name": "ipython",
    "version": 3
   },
   "file_extension": ".py",
   "mimetype": "text/x-python",
   "name": "python",
   "nbconvert_exporter": "python",
   "pygments_lexer": "ipython3",
   "version": "3.9.7"
  }
 },
 "nbformat": 4,
 "nbformat_minor": 5
}
